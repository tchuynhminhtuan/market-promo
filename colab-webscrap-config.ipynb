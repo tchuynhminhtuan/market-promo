{
 "cells": [
  {
   "cell_type": "code",
   "execution_count": null,
   "id": "7b24cb2b-13c4-4371-96b0-2a074995c060",
   "metadata": {},
   "outputs": [],
   "source": [
    "# Update package list\n",
    "!apt update\n",
    "\n",
    "# Install Chrome\n",
    "!apt install -y wget\n",
    "!wget https://dl.google.com/linux/direct/google-chrome-stable_current_amd64.deb\n",
    "!dpkg -i google-chrome-stable_current_amd64.deb\n",
    "!apt -f install -y\n",
    "\n",
    "# Install Xvfb for virtual display\n",
    "!apt-get install -y xvfb\n",
    "\n",
    "# Install Python packages\n",
    "!pip install selenium pyvirtualdisplay webdriver-manager chromedriver-autoinstaller\n",
    "\n",
    "# Check Chrome version\n",
    "!google-chrome --version\n",
    "\n",
    "# install time zone\n",
    "!pip install pytz\n",
    "\n",
    "# install unidecode\n",
    "!pip install unidecode\n",
    "\n",
    "# install ping3\n",
    "!pip install ping3\n",
    "\n",
    "\n",
    "\n",
    "# Note: ChromeDriver will be managed by webdriver-manager or chromedriver-autoinstaller"
   ]
  }
 ],
 "metadata": {
  "kernelspec": {
   "display_name": "Python 3 (ipykernel)",
   "language": "python",
   "name": "python3"
  },
  "language_info": {
   "codemirror_mode": {
    "name": "ipython",
    "version": 3
   },
   "file_extension": ".py",
   "mimetype": "text/x-python",
   "name": "python",
   "nbconvert_exporter": "python",
   "pygments_lexer": "ipython3",
   "version": "3.9.16"
  }
 },
 "nbformat": 4,
 "nbformat_minor": 5
}
