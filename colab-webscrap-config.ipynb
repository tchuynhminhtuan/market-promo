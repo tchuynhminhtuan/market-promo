{
 "cells": [
  {
   "cell_type": "code",
   "execution_count": null,
   "id": "7b24cb2b-13c4-4371-96b0-2a074995c060",
   "metadata": {},
   "outputs": [],
   "source": [
    "# 1. Update packages and install necessary system dependencies\n",
    "# This single line replaces your complex Chrome install and xvfb.\n",
    "!apt-get update\n",
    "!apt-get install -y chromium-chromedriver fonts-noto\n",
    "\n",
    "# 2. Install required Python packages\n",
    "# We only need selenium and one driver manager.\n",
    "!pip install selenium webdriver-manager\n",
    "\n",
    "# Install your other specific libraries\n",
    "!pip install pytz unidecode ping3\n",
    "\n",
    "print(\"✅ All dependencies installed correctly.\")"
   ]
  }
 ],
 "metadata": {
  "kernelspec": {
   "display_name": "Python 3 (ipykernel)",
   "language": "python",
   "name": "python3"
  },
  "language_info": {
   "codemirror_mode": {
    "name": "ipython",
    "version": 3
   },
   "file_extension": ".py",
   "mimetype": "text/x-python",
   "name": "python",
   "nbconvert_exporter": "python",
   "pygments_lexer": "ipython3",
   "version": "3.9.16"
  }
 },
 "nbformat": 4,
 "nbformat_minor": 5
}
