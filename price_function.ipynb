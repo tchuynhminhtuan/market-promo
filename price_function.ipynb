{
 "cells": [
  {
   "cell_type": "code",
   "execution_count": null,
   "id": "550d669b-a170-4073-8327-71f4cc08cafc",
   "metadata": {},
   "outputs": [],
   "source": [
    "import re\n",
    "\n",
    "def distribute(user_links):\n",
    "    # Clean and categorize the links\n",
    "    pattern = r\"^[\\'\\\"]+|[\\'\\\"]+$\"\n",
    "    cleaned_links = [re.sub(pattern, '', link.strip()) for link in user_links]\n",
    "\n",
    "    # Separate links by type\n",
    "    tz_links = [link for link in cleaned_links if 'topzone' in link]\n",
    "    mw_links = [link for link in cleaned_links if 'thegioididong' in link]\n",
    "    fpt_links = [link for link in cleaned_links if 'fptshop' in link]\n",
    "\n",
    "    print(tz_links,'\\n', mw_links, '\\n', fpt_links)\n",
    "\n",
    "    # Run the appropriate functions\n",
    "    if tz_links:\n",
    "        TZ().tz(tz_links, tz_links[0], , vnpay_flag = True)\n",
    "    if mw_links:\n",
    "        MW().mw(mw_links, mw_links[0], , vnpay_flag = True)\n",
    "    if fpt_links:\n",
    "        FPT().fpt(fpt_links, fpt_links[0])\n",
    "\n",
    "\n"
   ]
  },
  {
   "cell_type": "code",
   "execution_count": null,
   "id": "8bb55601-5b2e-47fe-ae82-ad90c51b21ee",
   "metadata": {},
   "outputs": [],
   "source": [
    "# VNPAY Table to calculate discount with VNPAY\n",
    "\n",
    "oc_vnpay_dict = {'HH': {0: 'HH', 1: 'HH', 2: 'HH'}, 'Range_Low_HH': {0: 3000000, 1: 20000000, 2: 0},\n",
    "               'Range_High_HH': {0: 20000000, 1: 200000000, 2: 0}, 'VNPay_Amount_HH': {0: 150000, 1: 150000, 2: 0},\n",
    "               'Percentage_HH': {0: '1%', 1: '1%', 2: '0'}, 'Date_HH': {0: '2023-8-31', 1: '2023-8-31', 2: '0'},\n",
    "               'CPS': {0: 'CPS', 1: 'CPS', 2: '0'}, 'Range_Low_CPS': {0: 5000000, 1: 10000000, 2: 17000000},\n",
    "               'Range_High_CPS': {0: 10000000, 1: 16999999, 2: 200000000},\n",
    "               'VNPay_Amount_CPS': {0: 100000, 1: 200000, 2: 300000},\n",
    "               'Date_CPS': {0: '2023-3-31', 1: '2023-3-31', 2: '2023-3-31'}, 'DDV': {0: 'DDV', 1: '0', 2: '0'},\n",
    "               'VNPay_Percent_DDV': {0: '0,03', 1: '0', 2: '0'}, 'VNPay_Amount_DDV': {0: 300000, 1: 0, 2: 0},\n",
    "               'Date_DDV': {0: '2022-07-30', 1: '0', 2: '0'}, 'FPT': {0: 'FPT', 1: 'FPT', 2: 'FPT'},\n",
    "               'Range_Low_FPT': {0: 5000000, 1: 10000000, 2: 30000000},\n",
    "               'Range_High_FPT': {0: 10000000, 1: 30000000, 2: 200000000},\n",
    "               'VNPay_Amount_FPT': {0: 50000, 1: 100000, 2: 300000},\n",
    "               'Date_FPT': {0: '2024-8-31', 1: '2024-8-31', 2: '2024-8-31'}, 'MW': {0: 'MW', 1: 'MW', 2: 'MW'},\n",
    "               'Range_Low_MW': {0: 4000000, 1: 9000000, 2: 17000000},\n",
    "               'Range_High_MW': {0: 9000000, 1: 17000000, 2: 200000000},\n",
    "               'VNPay_Amount_MW': {0: 50000, 1: 100000, 2: 200000},\n",
    "               'Date_MW': {0: '2024-8-31', 1: '2024-8-31', 2: '2024-8-31'}}\n"
   ]
  }
 ],
 "metadata": {
  "kernelspec": {
   "display_name": "Python 3 (ipykernel)",
   "language": "python",
   "name": "python3"
  },
  "language_info": {
   "codemirror_mode": {
    "name": "ipython",
    "version": 3
   },
   "file_extension": ".py",
   "mimetype": "text/x-python",
   "name": "python",
   "nbconvert_exporter": "python",
   "pygments_lexer": "ipython3",
   "version": "3.9.16"
  }
 },
 "nbformat": 4,
 "nbformat_minor": 5
}
