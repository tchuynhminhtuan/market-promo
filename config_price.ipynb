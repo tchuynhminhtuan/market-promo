{
 "cells": [
  {
   "cell_type": "code",
   "execution_count": null,
   "id": "2025c73f-cd23-40c9-b052-69d253540b30",
   "metadata": {},
   "outputs": [],
   "source": [
    "import requests\n",
    "\n",
    "file_path = 'colab-webscrap-config.ipynb'\n",
    "file_path_2 = 'BackEndFPT.ipynb'\n",
    "file_path_3 = 'BackEndMW.ipynb'\n",
    "file_path_4 = 'BackEndTZ.ipynb'\n",
    "file_path_5 = 'distribute.ipynb'\n",
    "repo_owner = 'tchuynhminhtuan'\n",
    "repo_name = 'market-promo'\n",
    "repo_url = f'https://api.github.com/repos/{repo_owner}/{repo_name}'\n",
    "response = requests.get(repo_url)\n",
    "data = response.json()\n",
    "default_branch = data['default_branch']\n",
    "\n",
    "commits_url = f'https://api.github.com/repos/{repo_owner}/{repo_name}/commits/{default_branch}'\n",
    "response = requests.get(commits_url)\n",
    "data = response.json()\n",
    "latest_sha = data['sha']\n",
    "\n",
    "raw_url = f'https://raw.githubusercontent.com/{repo_owner}/{repo_name}/{latest_sha}/{file_path}'\n",
    "\n",
    "!wget -O /python-apt/apt/progress/webscrap-config.ipynb {raw_url}\n",
    "\n",
    "%run \"/python-apt/apt/progress/webscrap-config.ipynb\"\n",
    "\n",
    "\n",
    "raw_url_2 = f'https://raw.githubusercontent.com/{repo_owner}/{repo_name}/{latest_sha}/{file_path_2}'\n",
    "\n",
    "\n",
    "!wget -O /tools/google-cloud-sdk/bin/backef.ipynb {raw_url_2}\n",
    "\n",
    "%run \"/tools/google-cloud-sdk/bin/backef.ipynb\"\n",
    "\n",
    "raw_url_3 = f'https://raw.githubusercontent.com/{repo_owner}/{repo_name}/{latest_sha}/{file_path_3}'\n",
    "\n",
    "\n",
    "!wget -O /tools/google-cloud-sdk/bin/backem.ipynb {raw_url_3}\n",
    "\n",
    "%run \"/tools/google-cloud-sdk/bin/backem.ipynb\"\n",
    "\n",
    "raw_url_4 = f'https://raw.githubusercontent.com/{repo_owner}/{repo_name}/{latest_sha}/{file_path_4}'\n",
    "\n",
    "\n",
    "!wget -O /tools/google-cloud-sdk/bin/backet.ipynb {raw_url_4}\n",
    "\n",
    "%run \"/tools/google-cloud-sdk/bin/backet.ipynb\"\n",
    "\n",
    "raw_url_5 = f'https://raw.githubusercontent.com/{repo_owner}/{repo_name}/{latest_sha}/{file_path_5}'\n",
    "\n",
    "\n",
    "!wget -O /tools/google-cloud-sdk/bin/distri.ipynb {raw_url_5}\n",
    "\n",
    "%run \"/tools/google-cloud-sdk/bin/distri.ipynb\"\n"
   ]
  }
 ],
 "metadata": {
  "kernelspec": {
   "display_name": "Python 3 (ipykernel)",
   "language": "python",
   "name": "python3"
  },
  "language_info": {
   "codemirror_mode": {
    "name": "ipython",
    "version": 3
   },
   "file_extension": ".py",
   "mimetype": "text/x-python",
   "name": "python",
   "nbconvert_exporter": "python",
   "pygments_lexer": "ipython3",
   "version": "3.9.16"
  }
 },
 "nbformat": 4,
 "nbformat_minor": 5
}
