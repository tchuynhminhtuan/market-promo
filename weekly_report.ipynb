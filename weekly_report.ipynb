{
 "cells": [
  {
   "cell_type": "code",
   "execution_count": 1,
   "id": "914492e9-272f-4ac2-b3a3-e0d20cb5f35b",
   "metadata": {},
   "outputs": [],
   "source": [
    "import pandas as pd\n",
    "import matplotlib.pyplot as plt\n",
    "import os\n",
    "import re\n",
    "import pandas as pd\n",
    "import plotly.graph_objects as go\n",
    "# from ipywidgets import interact, widgets\n",
    "import ipywidgets as widgets\n",
    "widgets.IntSlider()\n",
    "from IPython.display import display, clear_output\n",
    "\n",
    "# Set display options\n",
    "pd.set_option('display.max_rows', None)\n",
    "pd.set_option('display.max_columns', None)\n",
    "pd.set_option('display.max_colwidth', None)\n",
    "pd.set_option('display.width', None)"
   ]
  },
  {
   "cell_type": "code",
   "execution_count": 2,
   "id": "7d592518-56da-4f0e-8632-4ece6df82660",
   "metadata": {},
   "outputs": [],
   "source": [
    "# Tạo khung thời gian\n",
    "from datetime import datetime, timedelta, date\n",
    "from_year = 2024\n",
    "to_year = 2024\n",
    "from_month = 8\n",
    "to_month = 8\n",
    "from_date = 5\n",
    "to_date = 11\n",
    "def date_range(start, end):\n",
    "    delta = end - start  # as timedelta\n",
    "    days = [start + timedelta(days=day) for day in range(delta.days + 1)]\n",
    "    return days\n",
    "start = date(from_year, from_month, from_date)\n",
    "end = date(to_year, to_month, to_date)\n",
    "from_to_date = date_range(start, end)\n",
    "from_to_date = set(from_to_date)"
   ]
  },
  {
   "cell_type": "code",
   "execution_count": 3,
   "id": "9ce6be86-e133-4eab-8dc6-4c54dd610a25",
   "metadata": {},
   "outputs": [
    {
     "ename": "FileNotFoundError",
     "evalue": "[Errno 2] No such file or directory: 'freport_w6/test_oos'",
     "output_type": "error",
     "traceback": [
      "\u001b[0;31m---------------------------------------------------------------------------\u001b[0m",
      "\u001b[0;31mFileNotFoundError\u001b[0m                         Traceback (most recent call last)",
      "Cell \u001b[0;32mIn[3], line 2\u001b[0m\n\u001b[1;32m      1\u001b[0m base_path \u001b[38;5;241m=\u001b[39m  \u001b[38;5;124m'\u001b[39m\u001b[38;5;124mfreport_w6/test_oos\u001b[39m\u001b[38;5;124m'\u001b[39m\n\u001b[0;32m----> 2\u001b[0m list_report \u001b[38;5;241m=\u001b[39m  \u001b[38;5;28msorted\u001b[39m(\u001b[43mos\u001b[49m\u001b[38;5;241;43m.\u001b[39;49m\u001b[43mlistdir\u001b[49m\u001b[43m(\u001b[49m\u001b[43mbase_path\u001b[49m\u001b[43m)\u001b[49m)\n",
      "\u001b[0;31mFileNotFoundError\u001b[0m: [Errno 2] No such file or directory: 'freport_w6/test_oos'"
     ]
    }
   ],
   "source": [
    "base_path =  'freport_w6/test_oos'\n",
    "list_report =  sorted(os.listdir(base_path))"
   ]
  },
  {
   "cell_type": "markdown",
   "id": "db5c302a-7671-4eaf-b50b-a6c32b653a5c",
   "metadata": {},
   "source": [
    "# 1. GPS\n",
    "## Dữ liệu check in shop"
   ]
  },
  {
   "cell_type": "code",
   "execution_count": null,
   "id": "659ce6f0-10d6-417d-9123-7371ab623389",
   "metadata": {},
   "outputs": [],
   "source": [
    "\n",
    "def read_gps(list_report):\n",
    "    list_gps = []\n",
    "    for report in list_report:\n",
    "        if 'GPS' in report:\n",
    "            file_path = os.path.join(base_path, report)\n",
    "            df_gps = pd.read_excel(file_path, skiprows=0)\n",
    "            try:\n",
    "                # Bởi vì dòng số 1 trong file dữ liệu GPS không có dữ liệu nên bỏ đi\n",
    "                df_gps = df_gps.drop(df_gps.index[0])\n",
    "            except IndexError:\n",
    "                pass\n",
    "            list_gps.append(df_gps)\n",
    "    df_gps = pd.concat(list_gps, ignore_index=True)\n",
    "\n",
    "    # Chuyển đổi tên cột Date sang Day\n",
    "    df_gps['Day'] = df_gps['Date']\n",
    "    # Tạo cột Apple ID\n",
    "    df_gps['Apple ID'] = df_gps['Apple Store ID']\n",
    "    # Tạo cột Date để check ngày\n",
    "    df_gps['Date'] = pd.to_datetime(df_gps[['Year', 'Month', 'Day']].astype('int'))\n",
    "    # Xếp lại dữ liệu theo ngày nào mới nhất đưa lên đầu\n",
    "    df_gps.sort_values('Date', inplace=True, ascending=False)\n",
    "    # loại bỏ dữ liệu bị duplicate\n",
    "    df_gps.drop_duplicates(keep='first', inplace=True, ignore_index=True)\n",
    "    # Bỏ qua các lượt checkin Apple Moment\n",
    "    df_gps = df_gps[df_gps['Channel'] != 'A.M']\n",
    "    # Chuyển đổi dữ liệu sai lệch check in sang định dạng int\n",
    "    df_gps['Sai lệch'] = df_gps['Sai lệch'].map(lambda x: int(re.sub('[a-z\\s,]', '', x)))\n",
    "    \n",
    "    # df_gps.reset_index(inplace=True)\n",
    "    return df_gps\n",
    "    \n",
    "df_gps = read_gps(list_report)"
   ]
  },
  {
   "cell_type": "code",
   "execution_count": null,
   "id": "4d3d86c2-f52a-498a-aaa5-48b1f4b0a7a9",
   "metadata": {},
   "outputs": [],
   "source": [
    "# Xem dữ liệu chỉ trong khung thời gian đã xác định để phân tích - Lưu ý là dữ liệu sẽ thay đổi inplace\n",
    "df_gps = df_gps[df_gps['Date'].isin(from_to_date)]\n"
   ]
  },
  {
   "cell_type": "code",
   "execution_count": null,
   "id": "52a16c70-51b3-4264-9584-2bdf2cdcda9a",
   "metadata": {
    "scrolled": true
   },
   "outputs": [],
   "source": [
    "# Có 3 feature để đưa ra phân tích: 'Staff Name', 'Channel', 'POS Type'\n",
    "\n",
    "# Plotting\n",
    "\n",
    "feature_gps =  'POS Type'\n",
    "\n",
    "plt.figure(figsize=(8, 2.5))\n",
    "df_gps[feature_gps].value_counts().plot(kind='barh', color='skyblue')\n",
    "plt.xlabel('Số lượt vist')\n",
    "plt.ylabel('')\n",
    "plt.title(f'Biểu đồ số lượt visit tính theo {feature_gps}')\n",
    "plt.gca().invert_yaxis()  # Invert y-axis to have the highest count on top\n",
    "\n",
    "# Add grid\n",
    "plt.grid(axis='x', linestyle='--', linewidth=0.7, color='grey')  # Customize grid appearance\n",
    "\n",
    "plt.show()\n",
    "\n",
    "# ASM đã visit bao nhiêu cửa hàng trong giai đoạn này\n",
    "df_gps[feature_gps].value_counts()"
   ]
  },
  {
   "cell_type": "code",
   "execution_count": null,
   "id": "a2a57f8a-9633-4a23-bfdf-02145fa69f90",
   "metadata": {},
   "outputs": [],
   "source": [
    "# Những dữ liệu check in bị quá xa so với shop cần xem xét\n",
    "df_gps[(df_gps['Sai lệch'] > 1000) | (df_gps['Sai lệch'] < 0)]"
   ]
  },
  {
   "cell_type": "markdown",
   "id": "bc00fa39-7711-43b1-ab00-24e4458a70c4",
   "metadata": {},
   "source": [
    "# 2. Daily-Sell-out"
   ]
  },
  {
   "cell_type": "code",
   "execution_count": null,
   "id": "bbb14af4-08e0-4141-863d-a96327afa2cf",
   "metadata": {},
   "outputs": [],
   "source": [
    "\n",
    "def read_sell_out(list_report):\n",
    "    list_daily_sell = []\n",
    "    for report in list_report:\n",
    "        if 'Daily-Sell-out' in report:\n",
    "            file_path = os.path.join(base_path, report)\n",
    "            df_sell = pd.read_excel(file_path, sheet_name='Daily Sell - out', skiprows=1)\n",
    "            try:\n",
    "                df_sell = df_sell.drop(df_sell.index[0])\n",
    "            except IndexError:\n",
    "                pass\n",
    "            list_daily_sell.append(df_sell)\n",
    "    df_sell = pd.concat(list_daily_sell, ignore_index=True)\n",
    "\n",
    "    # Chuyển đổi Date thành Day\n",
    "    df_sell['Day'] = df_sell['Date']\n",
    "    # Tạo cột Date để lọc ngày\n",
    "    df_sell['Date'] = pd.to_datetime(df_sell[['Year', 'Month', 'Day']].astype('int'))\n",
    "    df_sell.sort_values('Date', inplace=True, ascending=False)\n",
    "    # loại bỏ dữ liệu trùng lặp\n",
    "    df_sell.drop_duplicates(keep='first', inplace=True, ignore_index=True)\n",
    "    \n",
    "    return df_sell\n",
    "df_sell = read_sell_out(list_report)"
   ]
  },
  {
   "cell_type": "code",
   "execution_count": null,
   "id": "fbcbaeec-ad24-4147-b2d8-6ffa55f5a636",
   "metadata": {},
   "outputs": [],
   "source": [
    "# Xem dữ liệu chỉ trong khung thời gian đã xác định để phân tích - Lưu ý là dữ liệu sẽ thay đổi inplace\n",
    "df_sell = df_sell[df_sell['Date'].isin(from_to_date)]"
   ]
  },
  {
   "cell_type": "code",
   "execution_count": null,
   "id": "08290241-de68-4bd0-9733-e6b5933d1607",
   "metadata": {},
   "outputs": [],
   "source": [
    "import pandas as pd\n",
    "import matplotlib.pyplot as plt\n",
    "from ipywidgets import widgets\n",
    "from IPython.display import display, clear_output\n",
    "\n",
    "# Assuming df_sell is your DataFrame\n",
    "\n",
    "def create_plot(feature):\n",
    "    plt.figure(figsize=(10, 6))\n",
    "    df_sell[feature].value_counts().plot(kind='barh', color='skyblue')\n",
    "    plt.xlabel('Số lượng')\n",
    "    plt.ylabel('')\n",
    "    plt.title(f'Biểu đồ số sales out do ASM hỗ trợ - {feature}')\n",
    "    plt.gca().invert_yaxis()\n",
    "    plt.grid(axis='x', linestyle='--', linewidth=0.7, color='grey')\n",
    "    plt.tight_layout()\n",
    "    plt.show()\n",
    "    \n",
    "    # Display value counts\n",
    "    display(df_sell[feature].value_counts().reset_index().rename(columns={'index': feature, feature: 'Count'}))\n",
    "\n",
    "def on_button_clicked(b):\n",
    "    clear_output(wait=True)\n",
    "    feature = b.description\n",
    "    create_plot([feature])\n",
    "\n",
    "# Create buttons\n",
    "buttons = [widgets.Button(description=feature) for feature in ['Age', 'Job', 'Reason', 'Payment Method', 'Attach']]\n",
    "\n",
    "def on_button_clicked(b):\n",
    "    print(f\"Button clicked: {b.description}\")  # Debug print\n",
    "    clear_output(wait=True)\n",
    "    feature = b.description\n",
    "    create_plot(feature)\n",
    "    display(widgets.HBox(buttons))\n",
    "\n",
    "# Display buttons\n",
    "display(widgets.HBox(buttons))\n",
    "\n",
    "# Initial plot (you can choose which feature to show initially)\n",
    "create_plot('Age')"
   ]
  },
  {
   "cell_type": "code",
   "execution_count": null,
   "id": "59e0c781-725f-4331-8e86-a812594e3cc7",
   "metadata": {},
   "outputs": [],
   "source": [
    "# !jupyter nbextension enable --py widgetsnbextension\n",
    "# !jupyter nbextension enable --py --sys-prefix widgetsnbextension\n",
    "\n",
    "# !pip install ipywidgets --upgrade\n",
    "# !pip install notebook --upgrade\n",
    "\n",
    "!jupyter notebook stop\n",
    "!jupyter notebook\n"
   ]
  },
  {
   "cell_type": "code",
   "execution_count": null,
   "id": "ad1d18df-8a78-475b-b8bd-d9daaa1fa5b7",
   "metadata": {},
   "outputs": [],
   "source": [
    "import ipywidgets as widgets\n",
    "from IPython.display import display\n",
    "\n",
    "def on_button_click(b):\n",
    "    print(f\"Button clicked: {b.description}\")\n",
    "\n",
    "# Create a button and attach the click event\n",
    "button = widgets.Button(description=\"Click Me\")\n",
    "button.on_click(on_button_click)\n",
    "display(button)\n"
   ]
  },
  {
   "cell_type": "code",
   "execution_count": null,
   "id": "a4ce0251-e0f7-4c2a-9477-0412efd54de0",
   "metadata": {},
   "outputs": [],
   "source": [
    "# Có một số câu hỏi có thể đặt ra, điền vào feature bên dưới để ra kết quả\n",
    "\n",
    "# 'STAFF NAME', 'Product', ['Model', 'Memory', 'Color'], 'Customer', 'Gender',\n",
    "# 'Age', 'Job', 'Reason', 'Payment Method', 'Attach' \n",
    "\n",
    "# Chỉ cần chọn feature là ra biểu đồ để phân tích sâu thêm\n",
    "feature =  ['Age']\n",
    "\n",
    "# Plotting\n",
    "plt.figure(figsize=(8, 2.5))\n",
    "df_sell[feature].value_counts().plot(kind='barh', color='skyblue')\n",
    "plt.xlabel('Số lượng')\n",
    "plt.ylabel('')\n",
    "plt.title('Biểu đồ số sales out do ASM hỗ trợ')\n",
    "plt.gca().invert_yaxis()  # Invert y-axis to have the highest count on top\n",
    "\n",
    "# Add grid\n",
    "plt.grid(axis='x', linestyle='--', linewidth=0.7, color='grey')  # Customize grid appearance\n",
    "\n",
    "plt.show()\n",
    "\n",
    "# Ai là best seller trên F-Track\n",
    "df_sell[feature].value_counts().reset_index()"
   ]
  },
  {
   "cell_type": "code",
   "execution_count": null,
   "id": "564e6025-1cab-4e32-8ff5-d06d520024b8",
   "metadata": {},
   "outputs": [],
   "source": [
    "# sell_columns =  df_sell.columns.tolist()\n",
    "# def list_unique_categories(df):\n",
    "#     categorical_cols = df.select_dtypes(include=['category', 'object']).columns\n",
    "#     unique_values = {}\n",
    "    \n",
    "#     for col in categorical_cols:\n",
    "#         unique_values[col] = df[col].unique().tolist()\n",
    "    \n",
    "#     return unique_values\n",
    "\n",
    "# unique_categories = list_unique_categories(df_sell)\n",
    "# print(\"Unique categories for categorical columns:\", unique_categories)"
   ]
  },
  {
   "cell_type": "markdown",
   "id": "cdc684bf-8410-485b-bf05-d28cdc6677f1",
   "metadata": {},
   "source": [
    "# 3. Note"
   ]
  },
  {
   "cell_type": "code",
   "execution_count": null,
   "id": "400f872f-f558-447a-babd-7e0b68031c57",
   "metadata": {},
   "outputs": [],
   "source": [
    "\n",
    "def read_daily_note(list_report):\n",
    "    list_daily_note = []\n",
    "    for report in list_report:\n",
    "        if 'Note' in report:\n",
    "            file_path = os.path.join(base_path, report)\n",
    "            df_note = pd.read_excel(file_path, skiprows=1)\n",
    "            list_daily_note.append(df_note)\n",
    "    df_note = pd.concat(list_daily_note, ignore_index=True)\n",
    "    # Loại bỏ dữ liệu Apple Moment\n",
    "    df_note = df_note[df_note['Channel'] != 'A.M']\n",
    "    # Tạo cột Date để check khung thời gian\n",
    "    df_note['Date'] = pd.to_datetime(df_note[['Year', 'Month', 'Day']].astype('int'))\n",
    "    # Sắp xếp dữ liệu theo trình tự ngày gần nhất đưa lên đầu\n",
    "    df_note.sort_values('Date', inplace=True, ascending=False)\n",
    "    # loại bỏ dữ liệu trùng lắp nếu có, giữ lại ngày gần nhất\n",
    "    df_note.drop_duplicates(keep='first', inplace=True, ignore_index=True)\n",
    "    return df_note\n",
    "\n",
    "\n",
    "df_note = read_daily_note(list_report)"
   ]
  },
  {
   "cell_type": "code",
   "execution_count": null,
   "id": "37d710b1-9c05-440e-a25f-12e9f8556e08",
   "metadata": {},
   "outputs": [],
   "source": [
    "# Xem dữ liệu chỉ trong khung thời gian đã xác định để phân tích - Lưu ý là dữ liệu sẽ thay đổi inplace\n",
    "df_note = df_note[df_note['Date'].isin(from_to_date)]"
   ]
  },
  {
   "cell_type": "code",
   "execution_count": null,
   "id": "08930265-39c7-4ffc-8bf9-9762c80e6956",
   "metadata": {},
   "outputs": [],
   "source": [
    "# Kiểm tra xem những visit nào bị quên note trong summary về thị trường\n",
    "if len(df_gps) != len(df_note):\n",
    "    # Merge DataFrames with indicator=True\n",
    "    merged_df = df_gps.merge(df_note, on=['Staff Name', 'Apple ID', 'Channel', 'Store Name', 'Date'], \n",
    "                          how='left', indicator=True)\n",
    "    \n",
    "    # Filter rows that are only in df1 but not in df2\n",
    "    df_gps_only = merged_df[merged_df['_merge'] == 'left_only'].drop(columns='_merge')\n",
    "    df_gps_only =  df_gps_only[['Staff Name', 'Apple ID', 'Channel', 'Store Name', 'Date']]\n",
    "df_gps_only.reset_index()"
   ]
  },
  {
   "cell_type": "markdown",
   "id": "8aa682cd-7cb5-4957-90ba-ef5cb670895a",
   "metadata": {},
   "source": [
    "# 3. OOS"
   ]
  },
  {
   "cell_type": "code",
   "execution_count": null,
   "id": "8c7cd1f7-78bb-4481-bd44-c331ff2a11e0",
   "metadata": {},
   "outputs": [],
   "source": [
    "# Lưu ý: dữ liệu stock trên hệ thống ghi đè, ngày mới nhất sẽ hiển thị, dữ liệu cũ sẽ bị xoá khỏi hệ thống trong tháng\n",
    "# đó (nếu đổ dữ liệu theo tháng)\n",
    "# Nếu muốn tra cứu dữ liệu stock thì cần đổ dữ liệu theo tuần\n",
    "\n",
    "def read_oos(list_report):\n",
    "    list_daily_oos = []\n",
    "    for report in list_report:\n",
    "        if 'OOS' in report:\n",
    "            file_path = os.path.join(base_path, report)\n",
    "    \n",
    "            # Read the first 4 rows to handle headers manually\n",
    "            df_header = pd.read_excel(file_path, header=None, nrows=4)\n",
    "            header_1_16 = df_header.iloc[1, :16].tolist()\n",
    "            header_17_20 = df_header.iloc[2, 16:20].tolist()\n",
    "            header_21_80 = df_header.iloc[3, 20:81].tolist()\n",
    "            header = header_1_16 + header_17_20 + header_21_80\n",
    "            \n",
    "            # Read the full data, skipping the first 4 rows (headers)\n",
    "            df_oos = pd.read_excel(file_path, skiprows=3)\n",
    "            df_oos = df_oos.iloc[:, :81]\n",
    "            df_oos.columns = header\n",
    "            list_daily_oos.append(df_oos)\n",
    "    df_oos = pd.concat(list_daily_oos, ignore_index=True)\n",
    "    # Tạo cột Date để lọc ngày\n",
    "    df_oos['Date'] = pd.to_datetime(df_oos[['Year', 'Month', 'Day']].astype('int'))\n",
    "    # Xếp lại dữ liệu theo trình tự thời gian cũ tới mới\n",
    "    df_oos.sort_values('Date', inplace=True, ascending=False)\n",
    "    # Loại bỏ dữ liệu lặp lại nếu có gây ra bởi việc download nhầm nhiều bảng dữ liệu\n",
    "    df_oos.drop_duplicates(keep='first', inplace=True, ignore_index=True)\n",
    "    # Move 'Date' to the 2nd column position\n",
    "    cols = df_oos.columns.tolist()  # Get current column order\n",
    "    cols.remove('Date')  # Remove 'Date' from the list\n",
    "    cols.insert(1, 'Date')  # Insert 'Date' at the 2nd position (index 1)\n",
    "    df_oos = df_oos[cols]\n",
    "    return df_oos\n",
    "\n",
    "\n",
    "df_oos = read_oos(list_report)"
   ]
  },
  {
   "cell_type": "code",
   "execution_count": null,
   "id": "52eb9e94-7b0d-4bb2-be72-9f1c497dbf9b",
   "metadata": {},
   "outputs": [],
   "source": [
    "# Xem dữ liệu chỉ trong khung thời gian đã xác định để phân tích - Lưu ý là dữ liệu sẽ thay đổi inplace\n",
    "df_oos = df_oos[df_oos['Date'].isin(from_to_date)]"
   ]
  },
  {
   "cell_type": "code",
   "execution_count": null,
   "id": "4e6097aa-f6ec-4df8-a6c7-01b981bbeb84",
   "metadata": {},
   "outputs": [],
   "source": [
    "df_oos"
   ]
  },
  {
   "cell_type": "code",
   "execution_count": null,
   "id": "aba124ca-156f-4561-b259-60258df171c1",
   "metadata": {},
   "outputs": [],
   "source": [
    "# Kiểm tra xem những store nào không nhập stock, những store nào duplicated thì không tính\n",
    "\n",
    "if len(df_gps) != len(df_oos):\n",
    "    # Merge DataFrames with indicator=True\n",
    "    df_gps_to_check_stock = df_gps.drop_duplicates('Apple ID', keep='first')\n",
    "\n",
    "    merged_df = df_gps_to_check_stock.merge(df_oos, on=['Staff Name', 'Apple ID', 'Channel', 'Store Name', 'Date'], \n",
    "                      how='left', indicator=True)\n",
    "    \n",
    "    # Filter rows that are only in df1 but not in df2\n",
    "    df_gps_only = merged_df[merged_df['_merge'] == 'left_only'].drop(columns='_merge')\n",
    "    df_gps_only =  df_gps_only[['Staff Name', 'Apple ID', 'Channel', 'Store Name', 'Date']]\n",
    "df_gps_only.reset_index()"
   ]
  },
  {
   "cell_type": "code",
   "execution_count": null,
   "id": "3be29560-d4e4-4887-8d01-b3b0242a892a",
   "metadata": {},
   "outputs": [],
   "source": [
    "# Xem 5 dòng đầu tiên của dữ liệu\n",
    "df_oos.head()"
   ]
  },
  {
   "cell_type": "code",
   "execution_count": null,
   "id": "3578c5ed-b8a2-4bcc-aa6c-8bb9982886fe",
   "metadata": {},
   "outputs": [],
   "source": [
    "df_oos_dropped_duplicates =  df_oos.drop_duplicates('Apple ID', keep='first')"
   ]
  },
  {
   "cell_type": "code",
   "execution_count": null,
   "id": "f67eea59-e8d0-49f6-9a78-7cd7a4651619",
   "metadata": {},
   "outputs": [],
   "source": [
    "len(df_oos_dropped_duplicates)"
   ]
  },
  {
   "cell_type": "code",
   "execution_count": null,
   "id": "1ef3ec11-e6d4-41e9-a82a-a48cbe9087bc",
   "metadata": {},
   "outputs": [],
   "source": [
    "# Define the column to start iterating after\n",
    "start_col = 'AW'\n",
    "\n",
    "# Find the index of the column to start from\n",
    "start_index = df_oos_dropped_duplicates.columns.get_loc(start_col) + 1\n",
    "\n",
    "# Iterate through the columns after the specified column\n",
    "counts_dict = {}\n",
    "for col in df_oos_dropped_duplicates.columns[start_index:]:\n",
    "    try:\n",
    "        count = (df_oos_dropped_duplicates[col] != 0).sum()\n",
    "        counts_dict[col] = count\n",
    "    except TypeError:\n",
    "        print(df_oos_dropped_duplicates[col])\n",
    "\n",
    "# Convert the results to a DataFrame\n",
    "df = pd.DataFrame.from_dict(counts_dict, orient='index', columns=['Non-zero Count'])\n",
    "df['Percentage'] = round(df['Non-zero Count'] / len(df_oos_dropped_duplicates) * 100, 2)\n",
    "\n",
    "# Reset index to have the column names as a column\n",
    "df.reset_index(inplace=True)\n",
    "df.rename(columns={'index': 'Column Name'}, inplace=True)\n",
    "df.sort_values('Percentage', inplace=True)\n",
    "print(df)"
   ]
  },
  {
   "cell_type": "code",
   "execution_count": null,
   "id": "62568066-578d-4ad9-b12b-1354bba49bbf",
   "metadata": {},
   "outputs": [],
   "source": [
    "def update_graph(selected_range):\n",
    "    # Filter the DataFrame based on the selected range\n",
    "    if selected_range == '< 25%':\n",
    "        filtered_df = df[df['Percentage'] < 25]\n",
    "    elif selected_range == '25-50%':\n",
    "        filtered_df = df[(df['Percentage'] >= 25) & (df['Percentage'] <= 50)]\n",
    "    elif selected_range == '50-75%':\n",
    "        filtered_df = df[(df['Percentage'] > 50) & (df['Percentage'] <= 75)]\n",
    "    elif selected_range == '> 75%':\n",
    "        filtered_df = df[df['Percentage'] > 75]\n",
    "    \n",
    "    # Create the bar chart\n",
    "    fig = go.Figure(data=[go.Bar(\n",
    "        x=filtered_df['Column Name'],\n",
    "        y=filtered_df['Non-zero Count'],\n",
    "        marker_color=filtered_df['Percentage'],\n",
    "        text=filtered_df['Percentage'].round(2),\n",
    "        textposition='auto',\n",
    "    )])\n",
    "    \n",
    "    fig.update_layout(\n",
    "        title='Phân loại mức độ tồn kho',\n",
    "        xaxis_title='Product',\n",
    "        yaxis_title='Count',\n",
    "        coloraxis_colorbar=dict(title='Percentage'),\n",
    "    )\n",
    "    \n",
    "    fig.show()\n",
    "\n",
    "# Create the dropdown widget\n",
    "dropdown = widgets.Dropdown(\n",
    "    options=[\n",
    "        ('< 25%', '< 25%'),\n",
    "        ('25-50%', '25-50%'),\n",
    "        ('50-75%', '50-75%'),\n",
    "        ('> 75%', '> 75%')\n",
    "    ],\n",
    "    value='< 25%',\n",
    "    description='Percentage Range:',\n",
    "    style={'description_width': 'initial'}\n",
    ")\n",
    "\n",
    "# Display the interactive widget\n",
    "interact(update_graph, selected_range=dropdown)"
   ]
  }
 ],
 "metadata": {
  "kernelspec": {
   "display_name": "Python 3 (ipykernel)",
   "language": "python",
   "name": "python3"
  },
  "language_info": {
   "codemirror_mode": {
    "name": "ipython",
    "version": 3
   },
   "file_extension": ".py",
   "mimetype": "text/x-python",
   "name": "python",
   "nbconvert_exporter": "python",
   "pygments_lexer": "ipython3",
   "version": "3.9.16"
  }
 },
 "nbformat": 4,
 "nbformat_minor": 5
}
